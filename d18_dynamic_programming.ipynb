{
 "cells": [
  {
   "cell_type": "code",
   "execution_count": 43,
   "metadata": {},
   "outputs": [],
   "source": [
    "def probability(n):\n",
    "    # p(n) = 1/6 * sum(p[i for i in range (n-6, n)])\n",
    "    \n",
    "    # initial probabilities\n",
    "    p = [0, 0, 0, 0, 0, 1]\n",
    "    \n",
    "    # next field is conditioned on previous six fields\n",
    "    for _ in range(n):\n",
    "        p.append(1/6 * sum(p[i] for i in range (-6, 0))) # get latest 6 element\n",
    "#         p.append(sum(p[-6:]) / 6)\n",
    "\n",
    "    return p[6:]"
   ]
  },
  {
   "cell_type": "code",
   "execution_count": 44,
   "metadata": {},
   "outputs": [
    {
     "name": "stdout",
     "output_type": "stream",
     "text": [
      "[0.16666666666666666, 0.19444444444444445, 0.22685185185185186, 0.2646604938271605, 0.30877057613168724, 0.36023233882030176, 0.25360439529035206, 0.26809401672763294, 0.2803689454414977, 0.289288461039772, 0.29339312224187397, 0.2908302132602384, 0.27926319233356117, 0.28353965850742935, 0.2861139321373954, 0.287071429920045, 0.2867019247334239, 0.2855867251486822, 0.2847128104634228, 0.28562108015173315, 0.28596798375911703, 0.285943659029404, 0.28575569721429717, 0.285597992627776]\n",
      "24\n"
     ]
    }
   ],
   "source": [
    "fields = probability(24)\n",
    "print(fields)\n",
    "print(len(fields))"
   ]
  }
 ],
 "metadata": {
  "kernelspec": {
   "display_name": "pyenv_tesseract",
   "language": "python",
   "name": "pyenv_tesseract"
  },
  "language_info": {
   "codemirror_mode": {
    "name": "ipython",
    "version": 3
   },
   "file_extension": ".py",
   "mimetype": "text/x-python",
   "name": "python",
   "nbconvert_exporter": "python",
   "pygments_lexer": "ipython3",
   "version": "3.6.7"
  }
 },
 "nbformat": 4,
 "nbformat_minor": 2
}
