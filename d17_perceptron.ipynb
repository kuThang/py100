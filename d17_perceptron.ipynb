{
 "cells": [
  {
   "cell_type": "code",
   "execution_count": 1,
   "metadata": {},
   "outputs": [],
   "source": [
    "import numpy as np"
   ]
  },
  {
   "cell_type": "code",
   "execution_count": 14,
   "metadata": {},
   "outputs": [
    {
     "name": "stdout",
     "output_type": "stream",
     "text": [
      "[0. 0. 0.]\n"
     ]
    }
   ],
   "source": [
    "X = np.array([[0, 1, 1], [1, 0, 1], [1, 1, 1], [-1, 1, 1], [1, -1, 1], [1, 0, 1]])\n",
    "Y = np.array([1, 1, 1, 0, 0, 1])\n",
    "W = np.zeros(3)\n",
    "print(W)"
   ]
  },
  {
   "cell_type": "code",
   "execution_count": 15,
   "metadata": {},
   "outputs": [],
   "source": [
    "def perceptron(x, w):\n",
    "    return (x @ w >= 0).astype(int)\n",
    "def train(X, Y, w):\n",
    "    for i in range(len(X)):\n",
    "        h = perceptron(w, X[i, :])\n",
    "        if h != Y[i]:\n",
    "            if Y[i] == 1:\n",
    "                w += X[i, :]\n",
    "            else:\n",
    "                w -= X[i, :]\n",
    "    return perceptron(X, w), w"
   ]
  },
  {
   "cell_type": "code",
   "execution_count": 16,
   "metadata": {},
   "outputs": [
    {
     "name": "stdout",
     "output_type": "stream",
     "text": [
      "w =  [ 1.  0. -1.] acc =  0.6666666666666666\n",
      "w =  [ 2.  1. -1.] acc =  0.8333333333333334\n",
      "w =  [ 2.  2. -1.] acc =  1.0\n",
      "w =  [ 2.  2. -1.] acc =  1.0\n",
      "w =  [ 2.  2. -1.] acc =  1.0\n",
      "w =  [ 2.  2. -1.] acc =  1.0\n",
      "w =  [ 2.  2. -1.] acc =  1.0\n",
      "w =  [ 2.  2. -1.] acc =  1.0\n",
      "w =  [ 2.  2. -1.] acc =  1.0\n",
      "w =  [ 2.  2. -1.] acc =  1.0\n"
     ]
    }
   ],
   "source": [
    "for _ in range(10):\n",
    "    h, W = train(X, Y, W)\n",
    "    print('w = ', W, 'acc = ', np.mean(h == Y))"
   ]
  },
  {
   "cell_type": "code",
   "execution_count": null,
   "metadata": {},
   "outputs": [],
   "source": []
  },
  {
   "cell_type": "code",
   "execution_count": null,
   "metadata": {},
   "outputs": [],
   "source": []
  }
 ],
 "metadata": {
  "kernelspec": {
   "display_name": "pyenv_tesseract",
   "language": "python",
   "name": "pyenv_tesseract"
  },
  "language_info": {
   "codemirror_mode": {
    "name": "ipython",
    "version": 3
   },
   "file_extension": ".py",
   "mimetype": "text/x-python",
   "name": "python",
   "nbconvert_exporter": "python",
   "pygments_lexer": "ipython3",
   "version": "3.6.7"
  }
 },
 "nbformat": 4,
 "nbformat_minor": 2
}
