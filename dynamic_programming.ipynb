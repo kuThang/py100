{
 "cells": [
  {
   "cell_type": "markdown",
   "metadata": {},
   "source": [
    "### Problem\n",
    "Given two strings ‘X’ and ‘Y’, find the length of the longest common substring."
   ]
  },
  {
   "cell_type": "code",
   "execution_count": 8,
   "metadata": {},
   "outputs": [],
   "source": [
    "def findLongestSubsequence(s1, s2):\n",
    "    \"\"\" Find longest subsequence \n",
    "    Subsequence example, “abc”, “abg”, “bdf”, “aeg”, ”acefg”, .. etc are subsequences of “abcdefg”\n",
    "    \n",
    "    findLongestSubsequence(s1, s2) = findLongestSubsequence(s1[:i], s2[:j]) for i, j ～ len(s1), len(s2)\n",
    "    \n",
    "    Use dynamic programming\n",
    "    if s1[i] == s2[j], dp[i, j] is dp[i-1, j-1] + 1  (last best result + 1)\n",
    "    else, dp[i, j] = dp[i-1, j] or dp[i, j-1]       (best result when delete 1 character in s1 or s2)\n",
    "    \n",
    "    \"\"\"\n",
    "    t = [[0] * (len(s2) + 1) for _ in range(len(s1) + 1)]\n",
    "    result = 0\n",
    "#     for i in range(len(s1) + 1):\n",
    "#         for j in range(len(s2) + 1):\n",
    "#             if i == 0 or j == 0: t[i][j] = 0\n",
    "#             elif s1[i-1] == s2[j-1]:\n",
    "#                 t[i][j] = t[i-1][j-1] + 1\n",
    "#                 result = max(result, t[i][j])\n",
    "#             else:\n",
    "#                 t[i][j] = max(t[i][j-1], t[i -1][j])\n",
    "    for i, x1 in enumerate(s1, 1):\n",
    "        for j, x2 in enumerate(s2, 1):\n",
    "            if x1 == x2 : \n",
    "                t[i][j] = t[i-1][j-1] + 1\n",
    "                result = max(result, t[i][j])\n",
    "            else:\n",
    "                t[i][j] = max(t[i][j-1], t[i -1][j])\n",
    "\n",
    "    for i in range(len(t)):\n",
    "        print(t[i])\n",
    "    return result"
   ]
  },
  {
   "cell_type": "code",
   "execution_count": 9,
   "metadata": {},
   "outputs": [
    {
     "name": "stdout",
     "output_type": "stream",
     "text": [
      "[0, 0, 0, 0, 0, 0, 0, 0, 0, 0, 0, 0, 0]\n",
      "[0, 0, 0, 0, 0, 0, 0, 0, 0, 0, 0, 0, 0]\n",
      "[0, 0, 0, 0, 0, 0, 0, 0, 0, 0, 0, 0, 0]\n",
      "[0, 0, 1, 1, 1, 1, 1, 1, 1, 1, 1, 1, 1]\n",
      "[0, 1, 1, 1, 1, 1, 2, 2, 2, 2, 2, 2, 2]\n",
      "[0, 1, 1, 2, 2, 2, 2, 2, 2, 2, 2, 2, 2]\n",
      "[0, 1, 1, 2, 2, 3, 3, 3, 3, 3, 3, 3, 3]\n",
      "[0, 1, 1, 2, 2, 3, 3, 4, 4, 4, 4, 4, 4]\n",
      "[0, 1, 1, 2, 3, 3, 3, 4, 4, 4, 4, 5, 5]\n",
      "[0, 1, 1, 2, 3, 3, 3, 4, 4, 4, 5, 5, 5]\n",
      "[0, 1, 1, 2, 3, 4, 4, 4, 4, 4, 5, 5, 6]\n",
      "[0, 1, 1, 2, 3, 4, 5, 5, 5, 5, 5, 5, 6]\n",
      "[0, 1, 1, 2, 3, 4, 5, 6, 6, 6, 6, 6, 6]\n",
      "Length of Longest Common Substring is 6\n"
     ]
    }
   ],
   "source": [
    "X = 'quetzalcoatl'\n",
    "Y = 'tezcatlipoca'  \n",
    "print('Length of Longest Common Substring is', \n",
    "                      findLongestSubsequence(X, Y)) "
   ]
  },
  {
   "cell_type": "markdown",
   "metadata": {},
   "source": [
    "### Problem\n",
    "LCS Problem Statement: Given two sequences, find the length of longest subsequence present in both of them"
   ]
  },
  {
   "cell_type": "code",
   "execution_count": 3,
   "metadata": {},
   "outputs": [],
   "source": [
    "def findLongestSubstring(s1, s2):\n",
    "    \"\"\" Find longest substring \n",
    "    Substring example, “abc”, “def”, “efg”, “bcd”,  .. etc are substring of “abcdefg”\n",
    "    \n",
    "    findLongestSubstring(s1, s2) = findLongestSubstring(s1[:i], s2[:j]) for i, j ～ len(s1), len(s2)\n",
    "    \n",
    "    Use dynamic programming\n",
    "    if s1[i] == s2[j], dp[i, j] is dp[i-1, j-1] + 1  when s1[i-1] == s2[j-1], or 1 when other.\n",
    "    else, dp[i, j] = dp[i-1, j] or dp[i, j-1]       (best result when delete 1 character in s1 or s2)\n",
    "    \n",
    "    \"\"\"\n",
    "    t = [[0] * (len(s2) + 1) for _ in range(len(s1) + 1)]\n",
    "    result = 0\n",
    "    for i in range(len(s1) + 1):\n",
    "        for j in range(len(s2) + 1):\n",
    "            if i == 0 or j == 0: \n",
    "                t[i][j] = 0\n",
    "            elif s1[i-1] == s2[j-1]: \n",
    "                t[i][j] = t[i-1][j-1] + 1 if s1[i-2] == s2[j-2] else 1\n",
    "                result = max(result, t[i][j])\n",
    "            else:\n",
    "                 t[i][j] = max(t[i][j-1], t[i -1][j])\n",
    "                    \n",
    "    for i in range(len(t)):\n",
    "        print(t[i])\n",
    "    \n",
    "    return result\n"
   ]
  },
  {
   "cell_type": "code",
   "execution_count": 5,
   "metadata": {},
   "outputs": [
    {
     "name": "stdout",
     "output_type": "stream",
     "text": [
      "[0, 0, 0, 0, 0, 0, 0, 0, 0, 0, 0, 0, 0]\n",
      "[0, 0, 0, 0, 0, 0, 0, 0, 0, 0, 0, 0, 0]\n",
      "[0, 0, 0, 0, 0, 0, 0, 0, 0, 0, 0, 0, 0]\n",
      "[0, 0, 1, 1, 1, 1, 1, 1, 1, 1, 1, 1, 1]\n",
      "[0, 1, 1, 1, 1, 1, 1, 1, 1, 1, 1, 1, 1]\n",
      "[0, 1, 1, 1, 1, 1, 1, 1, 1, 1, 1, 1, 1]\n",
      "[0, 1, 1, 1, 1, 1, 1, 1, 1, 1, 1, 1, 1]\n",
      "[0, 1, 1, 1, 1, 1, 1, 1, 1, 1, 1, 1, 1]\n",
      "[0, 1, 1, 1, 1, 1, 1, 1, 1, 1, 1, 1, 1]\n",
      "[0, 1, 1, 1, 1, 1, 1, 1, 1, 1, 1, 1, 1]\n",
      "[0, 1, 1, 1, 1, 1, 1, 1, 1, 1, 1, 1, 1]\n",
      "[0, 1, 1, 1, 1, 1, 2, 2, 2, 2, 2, 2, 2]\n",
      "[0, 1, 1, 1, 1, 1, 2, 3, 3, 3, 3, 3, 3]\n",
      "Length of Longest Common Substring is 3\n"
     ]
    }
   ],
   "source": [
    "# X = 'OldSite:GeeksforGeeks.org'\n",
    "# Y = 'NewSite:GeeksQuiz.com'\n",
    "X = 'quetzalcoatl'\n",
    "Y = 'tezcatlipoca'  \n",
    "print('Length of Longest Common Substring is', \n",
    "                      findLongestSubstring(X, Y)) "
   ]
  },
  {
   "cell_type": "markdown",
   "metadata": {},
   "source": [
    "### Problem\n",
    "A sequence of numbers is called a zig-zag sequence if the differences between successive numbers strictly alternate between positive and negative. The first difference (if one exists) may be either positive or negative. A sequence with fewer than two elements is trivially a zig-zag sequence.\n",
    "\n",
    "For example, 1,7,4,9,2,5 is a zig-zag sequence because the differences (6,-3,5,-7,3) are alternately positive and negative. In contrast, 1,4,7,2,5 and 1,7,4,5,5 are not zig-zag sequences, the first because its first two differences are positive and the second because its last difference is zero.\n",
    "\n",
    "Given a sequence of integers, sequence, return the length of the longest subsequence of sequence that is a zig-zag sequence. A subsequence is obtained by deleting some number of elements (possibly zero) from the original sequence, leaving the remaining elements in their original order.\n",
    "\n",
    "{ 1, 7, 4, 9, 2, 5 }\n",
    "Returns: 6\n",
    "\n",
    "{ 1, 17, 5, 10, 13, 15, 10, 5, 16, 8 }\n",
    "Returns: 7. There are several subsequences that achieve this length. One is 1,17,10,13,10,16,8.\n",
    "\n",
    "{ 44 } Returns: 1\n",
    "\n",
    "{ 1, 2, 3, 4, 5, 6, 7, 8, 9 } Returns: 2\n",
    "\n",
    "{ 70, 55, 13, 2, 99, 2, 80, 80, 80, 80, 100, 19, 7, 5, 5, 5, 1000, 32, 32 } Returns: 8\n",
    "\n",
    "{ 374, 40, 854, 203, 203, 156, 362, 279, 812, 955, \n",
    "600, 947, 978, 46, 100, 953, 670, 862, 568, 188, \n",
    "67, 669, 810, 704, 52, 861, 49, 640, 370, 908, \n",
    "477, 245, 413, 109, 659, 401, 483, 308, 609, 120, \n",
    "249, 22, 176, 279, 23, 22, 617, 462, 459, 244 }\n",
    "Returns: 36"
   ]
  },
  {
   "cell_type": "code",
   "execution_count": 61,
   "metadata": {},
   "outputs": [],
   "source": [
    "def zigzag(num_list):\n",
    "    \"\"\" Find longest zigzac list\n",
    "    \n",
    "    If current value > last value and up flag is False, plus one and set UP flag is True\n",
    "    else if current value < last value and up flag is True, plus one and set UP flag is False\n",
    "    else, keep longest count and UP flag\n",
    "    \"\"\"\n",
    "    t = [0] * (len(num_list) + 1) \n",
    "    up = [0] * (len(num_list) + 1)\n",
    "    \n",
    "    for i in range(1, len(num_list) + 1):\n",
    "        if i == 1:\n",
    "            t[i] = 1\n",
    "        elif num_list[i-1] > num_list[i-2] and up[i-1] <= 0:\n",
    "            t[i] = t[i-1] + 1\n",
    "            up[i] = 1\n",
    "        elif num_list[i-1] < num_list[i-2] and up[i-1] >= 0:\n",
    "            t[i] = t[i-1] + 1\n",
    "            up[i] = -1\n",
    "        else:\n",
    "            t[i] = t[i-1]\n",
    "            up[i] = up[i-1]\n",
    "       \n",
    "    print(t)\n",
    "    print(max(t))"
   ]
  },
  {
   "cell_type": "code",
   "execution_count": 64,
   "metadata": {},
   "outputs": [
    {
     "name": "stdout",
     "output_type": "stream",
     "text": [
      "[0, 1, 2, 3, 4, 5, 6]\n",
      "6\n",
      "[0, 1, 2, 3, 4, 4, 4, 5, 5, 6, 7]\n",
      "7\n",
      "[0, 1]\n",
      "1\n",
      "[0, 1, 2, 2, 2, 2, 2, 2, 2, 2]\n",
      "2\n",
      "[0, 1, 2, 2, 2, 3, 4, 5, 5, 5, 5, 5, 6, 6, 6, 6, 6, 7, 8, 8]\n",
      "8\n",
      "[0, 1, 2, 3, 4, 4, 4, 5, 6, 7, 7, 8, 9, 9, 10, 11, 11, 12, 13, 14, 14, 14, 15, 15, 16, 16, 17, 18, 19, 20, 21, 22, 22, 23, 24, 25, 26, 27, 28, 29, 30, 31, 32, 33, 33, 34, 34, 35, 36, 36, 36]\n",
      "36\n"
     ]
    }
   ],
   "source": [
    "zigzag([1, 7, 4, 9, 2, 5 ])\n",
    "zigzag([1, 17, 5, 10, 13, 15, 10, 5, 16, 8])\n",
    "zigzag([44 ])\n",
    "zigzag([1, 2, 3, 4, 5, 6, 7, 8, 9 ])\n",
    "zigzag([70, 55, 13, 2, 99, 2, 80, 80, 80, 80, 100, 19, 7, 5, 5, 5, 1000, 32, 32])\n",
    "zigzag([374, 40, 854, 203, 203, 156, 362, 279, 812, 955, 600, 947, 978, 46, 100, 953, 670, 862, 568, 188, 67, 669, 810, 704, 52, 861, 49, 640, 370, 908, 477, 245, 413, 109, 659, 401, 483, 308, 609, 120, 249, 22, 176, 279, 23, 22, 617, 462, 459, 244])"
   ]
  },
  {
   "cell_type": "markdown",
   "metadata": {},
   "source": [
    "### Problem\n",
    "In the city, roads are arranged in a grid pattern. Each point on the grid represents a corner where two blocks meet. The points are connected by line segments which represent the various street blocks. Using the cartesian coordinate system, we can assign a pair of integers to each corner as shown below. \n",
    "\n",
    "You are standing at the corner with coordinates 0,0. Your destination is at corner width,height. You will return the number of distinct paths that lead to your destination. Each path must use exactly width+height blocks. In addition, the city has declared certain street blocks untraversable. These blocks may not be a part of any path. You will be given a String[] bad describing which blocks are bad. If (quotes for clarity) \"a b c d\" is an element of bad, it means the block from corner a,b to corner c,d is untraversable. For example, let's say\n",
    "width = 6\n",
    "length = 6\n",
    "bad = {\"0 0 0 1\",\"6 6 5 6\"}\n",
    "The picture below shows the grid, with untraversable blocks darkened in black. A sample path has been highlighted in red.\n",
    "\n",
    "Examples\n",
    "\n",
    "0)\n",
    "6\n",
    "6\n",
    "{\"0 0 0 1\",\"6 6 5 6\"}\n",
    "\n",
    "Returns: 252\n",
    "\n",
    "1)\n",
    "1\n",
    "1\n",
    "{}\n",
    "\n",
    "Returns: 2\n",
    "\n",
    "Four blocks aranged in a square. Only 2 paths allowed.\n",
    "\n",
    "2)\n",
    "35\n",
    "31\n",
    "{}\n",
    "\n",
    "Returns: 6406484391866534976\n",
    "\n",
    "3)\n",
    "2\n",
    "2\n",
    "{\"0 0 1 0\", \"1 2 2 2\", \"1 1 2 1\"}\n",
    "\n",
    "Returns: 0"
   ]
  },
  {
   "cell_type": "code",
   "execution_count": 19,
   "metadata": {},
   "outputs": [],
   "source": [
    "def avoidRoads(m, n, block_start, block_end):\n",
    "    \"\"\"\n",
    "    m, n is size of roads\n",
    "    block_start contain start point of blocked road\n",
    "    block_end contain end point of blocked road\n",
    "    size(block_start) = size(block_start)\n",
    "    \"\"\"\n",
    "    t = [[0] * (m + 1) for _ in range(n+1)]\n",
    "    blockRoad = [[0] * (m + 1) for _ in range(n+1)]\n",
    "    for i in range(len(block_start)):\n",
    "        block_e = block_end[i]\n",
    "        block_s = block_start[i]\n",
    "        blockRoad[block_e[0]][block_e[1]] = 1\n",
    "        blockRoad[block_s[0]][block_s[1]] = 1\n",
    "        \n",
    "    \n",
    "        \n",
    "    for i in range(0, n+1):\n",
    "        for j in range(0, m+1):\n",
    "            if i == 0 and j == 0:\n",
    "                t[i][j] = 0\n",
    "            elif i + j == 1:\n",
    "                if blockRoad[i][j] != 0:\n",
    "                    t[i][j] = blockRoad[i][j] - blockRoad[i-1][j] if i > 0 else (blockRoad[i][j] - blockRoad[i][j-1])\n",
    "                else:\n",
    "                    t[i][j] = 1\n",
    "            else:\n",
    "                if blockRoad[i][j] != 0:\n",
    "                    t[i][j] = (blockRoad[i][j] - blockRoad[i-1][j]) * t[i-1][j] + (blockRoad[i][j] - blockRoad[i][j-1]) * t[i][j-1]\n",
    "                else:\n",
    "                    t[i][j] = t[i-1][j] + t[i][j-1]\n",
    "    \n",
    "    if m < 10 and n < 10:\n",
    "        for i in range(len(t)):\n",
    "            print(t[i])\n",
    "    \n",
    "    print(t[-1][-1])"
   ]
  },
  {
   "cell_type": "code",
   "execution_count": 21,
   "metadata": {},
   "outputs": [
    {
     "name": "stdout",
     "output_type": "stream",
     "text": [
      "[0, 0, 0, 0, 0, 0, 0]\n",
      "[1, 1, 1, 1, 1, 1, 1]\n",
      "[1, 2, 3, 4, 5, 6, 7]\n",
      "[1, 3, 6, 10, 15, 21, 28]\n",
      "[1, 4, 10, 20, 35, 56, 84]\n",
      "[1, 5, 15, 35, 70, 126, 210]\n",
      "[1, 6, 21, 56, 126, 252, 252]\n",
      "252\n",
      "-\n",
      "[0, 1]\n",
      "[1, 2]\n",
      "2\n",
      "-\n",
      "6406484391866534976\n",
      "-\n",
      "[0, 1, 1]\n",
      "[0, 1, 1]\n",
      "[0, 0, 0]\n",
      "0\n"
     ]
    }
   ],
   "source": [
    "avoidRoads(6,6,[[0,0], [6,6]],[[0,1], [5,6]])\n",
    "print('-')\n",
    "avoidRoads(1,1,[],[])\n",
    "print('-')\n",
    "avoidRoads(35,31,[],[])\n",
    "print('-')\n",
    "avoidRoads(2,2,[[0,0], [1,2], [1,1]], [[1,0], [2,2], [2,1]])"
   ]
  },
  {
   "cell_type": "code",
   "execution_count": null,
   "metadata": {},
   "outputs": [],
   "source": []
  }
 ],
 "metadata": {
  "kernelspec": {
   "display_name": "pyenv_tesseract",
   "language": "python",
   "name": "pyenv_tesseract"
  },
  "language_info": {
   "codemirror_mode": {
    "name": "ipython",
    "version": 3
   },
   "file_extension": ".py",
   "mimetype": "text/x-python",
   "name": "python",
   "nbconvert_exporter": "python",
   "pygments_lexer": "ipython3",
   "version": "3.6.7"
  }
 },
 "nbformat": 4,
 "nbformat_minor": 2
}
